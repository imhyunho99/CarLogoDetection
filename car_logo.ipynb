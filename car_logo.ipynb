{
 "cells": [
  {
   "cell_type": "code",
   "metadata": {
    "id": "zMlowMVCaWaX",
    "ExecuteTime": {
     "end_time": "2025-03-19T08:58:43.204789Z",
     "start_time": "2025-03-19T08:58:35.370086Z"
    }
   },
   "source": [
    "\"\"\"\n",
    "Dataset From\n",
    "https://www.kaggle.com/datasets/volkandl/car-brand-logos?resource=download\n",
    "Local\n",
    "\"\"\"\n",
    "import matplotlib.pyplot as plt\n",
    "import matplotlib\n",
    "import torch\n",
    "import numpy as np\n",
    "import torch.nn as nn\n",
    "import torch.nn.functional as F\n",
    "import random\n",
    "import torchvision\n",
    "import pretrainedmodels\n",
    "\n",
    "matplotlib.style.use('ggplot')\n",
    "\n",
    "from sklearn.model_selection import train_test_split\n",
    "from torchvision.transforms import transforms\n",
    "from torch.utils.data import DataLoader, Dataset\n",
    "from torchvision import models, datasets\n",
    "from torchvision.datasets import ImageFolder\n",
    "\n",
    "SEED=42\n",
    "\n",
    "def seed_everything(SEED):\n",
    "    random.seed(SEED)\n",
    "    np.random.seed(SEED)\n",
    "    torch.manual_seed(SEED)\n",
    "    torch.cuda.manual_seed(SEED)\n",
    "    torch.cuda.manual_seed_all(SEED)\n",
    "\n",
    "seed_everything(SEED=SEED)"
   ],
   "outputs": [],
   "execution_count": 1
  },
  {
   "cell_type": "code",
   "metadata": {
    "id": "YzWO32z582j4",
    "ExecuteTime": {
     "end_time": "2025-03-19T08:58:43.218710Z",
     "start_time": "2025-03-19T08:58:43.211303Z"
    }
   },
   "source": [
    "class_list =[\n",
    "    ['acura',173250000],\n",
    "    ['alfaromeo',82500000],\n",
    "    ['buick',59400000],\n",
    "    ['cadillac',110000000],\n",
    "    ['dodge',88000000],\n",
    "    ['fiat',33000000],\n",
    "    ['opel',44000000]\n",
    "]"
   ],
   "outputs": [],
   "execution_count": 2
  },
  {
   "metadata": {
    "ExecuteTime": {
     "end_time": "2025-03-19T08:58:43.230033Z",
     "start_time": "2025-03-19T08:58:43.225739Z"
    }
   },
   "cell_type": "code",
   "source": "LOGODICT = [\"acura\", \"alfaromeo\", \"buick\", \"cadillac\", \"dodge\", \"fiat\", \"opel\"]",
   "outputs": [],
   "execution_count": 3
  },
  {
   "cell_type": "code",
   "metadata": {
    "id": "1sMA9hfHaWat",
    "ExecuteTime": {
     "end_time": "2025-03-19T08:58:43.251367Z",
     "start_time": "2025-03-19T08:58:43.234859Z"
    }
   },
   "source": [
    "dataset_path = \"F:/프로젝트/CarLogoDetection/data/data\"\n",
    "train_val_split_ratio = 0.8\n",
    "learning_rate = 0.001\n",
    "num_epoch = 50\n",
    "batch_size = 128\n",
    "\n",
    "trans = transforms.Compose([\n",
    "    transforms.Resize((224, 224)),\n",
    "    transforms.RandomHorizontalFlip(p=0.5),  # 50% 확률로 좌우 반전\n",
    "    transforms.RandomVerticalFlip(p=0.5),  # 50% 확률로 상하 반전\n",
    "    transforms.ToTensor(),\n",
    "])\n",
    "\n",
    "dataset = ImageFolder(root=dataset_path, transform=trans)"
   ],
   "outputs": [],
   "execution_count": 4
  },
  {
   "metadata": {
    "ExecuteTime": {
     "end_time": "2025-03-19T08:58:43.777919Z",
     "start_time": "2025-03-19T08:58:43.773240Z"
    }
   },
   "cell_type": "code",
   "source": [
    "class_num = len(dataset.classes)  # or len(dataset.class_to_idx)\n",
    "\n",
    "print(f\"🔹 총 클래스 개수: {class_num}\")\n"
   ],
   "outputs": [
    {
     "name": "stdout",
     "output_type": "stream",
     "text": [
      "🔹 총 클래스 개수: 14\n"
     ]
    }
   ],
   "execution_count": 5
  },
  {
   "metadata": {
    "ExecuteTime": {
     "end_time": "2025-03-19T08:58:43.808811Z",
     "start_time": "2025-03-19T08:58:43.801349Z"
    }
   },
   "cell_type": "code",
   "source": "dataset.classes",
   "outputs": [
    {
     "data": {
      "text/plain": [
       "['acura',\n",
       " 'alfaromeo',\n",
       " 'buick',\n",
       " 'cadillac',\n",
       " 'dodge',\n",
       " 'fiat',\n",
       " 'hyundai',\n",
       " 'lexus',\n",
       " 'mazda',\n",
       " 'mercedes',\n",
       " 'opel',\n",
       " 'skoda',\n",
       " 'toyota',\n",
       " 'volkswagen']"
      ]
     },
     "execution_count": 6,
     "metadata": {},
     "output_type": "execute_result"
    }
   ],
   "execution_count": 6
  },
  {
   "cell_type": "code",
   "metadata": {
    "id": "A6Oder8gNtm0",
    "ExecuteTime": {
     "end_time": "2025-03-19T08:59:30.261559Z",
     "start_time": "2025-03-19T08:58:43.863940Z"
    }
   },
   "source": [
    "train_data, test_data = train_test_split(dataset, test_size = 0.2,random_state = 42)"
   ],
   "outputs": [],
   "execution_count": 7
  },
  {
   "cell_type": "code",
   "metadata": {
    "id": "QecZaPqin2oX",
    "ExecuteTime": {
     "end_time": "2025-03-19T08:59:30.306971Z",
     "start_time": "2025-03-19T08:59:30.301530Z"
    }
   },
   "source": [
    "train_loader = torch.utils.data.DataLoader(train_data,batch_size=batch_size, shuffle=True, num_workers=2, drop_last=True)\n",
    "teat_loader = torch.utils.data.DataLoader(test_data,batch_size=batch_size, shuffle=False, num_workers=2, drop_last=True)"
   ],
   "outputs": [],
   "execution_count": 8
  },
  {
   "cell_type": "code",
   "metadata": {
    "id": "xxd7n2XAgX60",
    "ExecuteTime": {
     "end_time": "2025-03-19T08:59:30.340900Z",
     "start_time": "2025-03-19T08:59:30.335566Z"
    }
   },
   "source": [
    "train_loader = DataLoader(train_data, batch_size=batch_size, shuffle=True, drop_last=True)\n",
    "test_loader = DataLoader(test_data, batch_size=batch_size, shuffle=False, drop_last=True)"
   ],
   "outputs": [],
   "execution_count": 9
  },
  {
   "cell_type": "code",
   "metadata": {
    "colab": {
     "base_uri": "https://localhost:8080/"
    },
    "executionInfo": {
     "elapsed": 7607,
     "status": "ok",
     "timestamp": 1692017516625,
     "user": {
      "displayName": "나현호",
      "userId": "13994604800831256900"
     },
     "user_tz": -540
    },
    "id": "wMJGS8NZaWa-",
    "outputId": "79669401-9389-4ec5-c7c7-ffcd4f2ca7d5",
    "ExecuteTime": {
     "end_time": "2025-03-19T08:59:30.834583Z",
     "start_time": "2025-03-19T08:59:30.396011Z"
    }
   },
   "source": [
    "import torch\n",
    "from torch import nn\n",
    "import torchvision.models as models\n",
    "\n",
    "\n",
    "class ResNet34(nn.Module):\n",
    "    def __init__(self, pretrained=True):\n",
    "        super(ResNet34, self).__init__()\n",
    "\n",
    "        self.class_num = class_num\n",
    "\n",
    "        if pretrained:\n",
    "            self.model = models.resnet34(weights=models.ResNet34_Weights.IMAGENET1K_V1)\n",
    "            print(\"Pretrained model loaded\")\n",
    "        else:\n",
    "            self.model = models.resnet34(weights=None)\n",
    "            print(\"Pretrained model loading failed, using untrained model\")\n",
    "\n",
    "        # **🔥 기존 fc (1000개 클래스) → 7개 클래스 변경**\n",
    "        self.model.fc = nn.Linear(512, self.class_num)\n",
    "\n",
    "    def forward(self, x):\n",
    "        return self.model(x)  # 모델 그대로 사용 가능\n",
    "\n",
    "\n",
    "device = torch.device(\"cuda:0\" if torch.cuda.is_available() else \"cpu\")\n",
    "\n",
    "model = ResNet34(pretrained=True).to(device)"
   ],
   "outputs": [
    {
     "name": "stdout",
     "output_type": "stream",
     "text": [
      "Pretrained model loaded\n"
     ]
    }
   ],
   "execution_count": 10
  },
  {
   "cell_type": "code",
   "metadata": {
    "id": "SddvTNcQaWbF",
    "ExecuteTime": {
     "end_time": "2025-03-19T08:59:30.871201Z",
     "start_time": "2025-03-19T08:59:30.864800Z"
    }
   },
   "source": [
    "loss_func = nn.CrossEntropyLoss()\n",
    "optimizer = torch.optim.Adam(model.parameters(), lr=learning_rate)"
   ],
   "outputs": [],
   "execution_count": 11
  },
  {
   "cell_type": "code",
   "metadata": {
    "colab": {
     "base_uri": "https://localhost:8080/"
    },
    "executionInfo": {
     "elapsed": 93519,
     "status": "ok",
     "timestamp": 1692017620034,
     "user": {
      "displayName": "나현호",
      "userId": "13994604800831256900"
     },
     "user_tz": -540
    },
    "id": "t3mgt5RYaWbI",
    "outputId": "752e8eec-fe4d-4c5f-c0a6-09250e595d79",
    "ExecuteTime": {
     "end_time": "2025-03-19T12:34:49.352781Z",
     "start_time": "2025-03-19T08:59:30.908953Z"
    }
   },
   "source": [
    "#train\n",
    "for i in range(num_epoch):\n",
    "    for j,[image,label] in enumerate(train_loader):\n",
    "        x = image.to(device)\n",
    "        y_= label.to(device)\n",
    "\n",
    "        optimizer.zero_grad()\n",
    "        output = model.forward(x)\n",
    "        loss = loss_func(output,y_)\n",
    "        loss.backward()\n",
    "        optimizer.step()\n",
    "\n",
    "    if i % 10 == 0:\n",
    "        print(loss)"
   ],
   "outputs": [
    {
     "name": "stdout",
     "output_type": "stream",
     "text": [
      "tensor(0.6628, grad_fn=<NllLossBackward0>)\n",
      "tensor(0.0863, grad_fn=<NllLossBackward0>)\n",
      "tensor(0.0190, grad_fn=<NllLossBackward0>)\n",
      "tensor(0.0845, grad_fn=<NllLossBackward0>)\n",
      "tensor(0.0003, grad_fn=<NllLossBackward0>)\n"
     ]
    }
   ],
   "execution_count": 12
  },
  {
   "metadata": {
    "colab": {
     "base_uri": "https://localhost:8080/"
    },
    "executionInfo": {
     "elapsed": 44,
     "status": "ok",
     "timestamp": 1686392603168,
     "user": {
      "displayName": "나현호",
      "userId": "13994604800831256900"
     },
     "user_tz": -540
    },
    "id": "Pzrp77gWN2Jy",
    "outputId": "23dd932d-5ab9-4d37-d1de-e9a9401eeb2b",
    "ExecuteTime": {
     "end_time": "2025-03-19T00:16:16.340894Z",
     "start_time": "2025-03-19T00:15:52.599536Z"
    }
   },
   "cell_type": "code",
   "outputs": [
    {
     "name": "stdout",
     "output_type": "stream",
     "text": [
      "Accuracy of Test Data: 86.1328125\n"
     ]
    }
   ],
   "execution_count": 18,
   "source": ""
  },
  {
   "cell_type": "code",
   "metadata": {
    "id": "665a4Lqf--ba",
    "ExecuteTime": {
     "end_time": "2025-03-19T12:34:50.635199Z",
     "start_time": "2025-03-19T12:34:49.481662Z"
    }
   },
   "source": [
    "torch.save(model.state_dict(), 'model')"
   ],
   "outputs": [],
   "execution_count": 13
  },
  {
   "cell_type": "code",
   "metadata": {
    "colab": {
     "base_uri": "https://localhost:8080/"
    },
    "executionInfo": {
     "elapsed": 647,
     "status": "error",
     "timestamp": 1686392603778,
     "user": {
      "displayName": "나현호",
      "userId": "13994604800831256900"
     },
     "user_tz": -540
    },
    "id": "NyvJDJJZD54h",
    "outputId": "5e7ffd52-eef2-4b81-c8b1-20a103126c7b",
    "ExecuteTime": {
     "end_time": "2025-03-19T17:27:58.770244Z",
     "start_time": "2025-03-19T17:27:39.535756Z"
    }
   },
   "source": [
    "import torch\n",
    "import PIL\n",
    "# 모델 불러오기\n",
    "model = ResNet34(pretrained=True).to(device)\n",
    "model.load_state_dict(torch.load(\"F:\\프로젝트\\CarLogoDetection\\model\"))  #학습한 모델 사용\n",
    "\n",
    "#test\n",
    "correct = 0\n",
    "total = 0\n",
    "\n",
    "with torch.no_grad():\n",
    "  for image,label in test_loader:\n",
    "      x = image.to(device)\n",
    "      y_= label.to(device)\n",
    "      output = model.forward(x)\n",
    "      _,output_index = torch.max(output,1)\n",
    "      total += label.size(0)\n",
    "      correct += (output_index == y_).sum().float()\n",
    "\n",
    "  print(\"Accuracy of Test Data: {}\".format(100*correct/total))\n",
    "\n"
   ],
   "outputs": [
    {
     "name": "stderr",
     "output_type": "stream",
     "text": [
      "<>:5: SyntaxWarning: invalid escape sequence '\\C'\n",
      "<>:5: SyntaxWarning: invalid escape sequence '\\C'\n",
      "C:\\Users\\nahyu\\AppData\\Local\\Temp\\ipykernel_9896\\684290289.py:5: SyntaxWarning: invalid escape sequence '\\C'\n",
      "  model.load_state_dict(torch.load(\"F:\\프로젝트\\CarLogoDetection\\model\"))  #학습한 모델 사용\n"
     ]
    },
    {
     "name": "stdout",
     "output_type": "stream",
     "text": [
      "Pretrained model loaded\n",
      "Accuracy of Test Data: 88.671875\n"
     ]
    }
   ],
   "execution_count": 14
  },
  {
   "metadata": {},
   "cell_type": "code",
   "outputs": [],
   "execution_count": null,
   "source": [
    "# 새로운 이미지 로드 및 전처리\n",
    "image_path = \"/content/tester.png\"  # 사용할 이미지 파일 업로드 후\n",
    "image = PIL.Image.open(image_path).convert(\"RGB\")\n",
    "input_image = trans(image).unsqueeze(0)\n",
    "\n",
    "if torch.cuda.is_available():\n",
    "    input_image = input_image.to('cuda')\n",
    "\n",
    "# 모델 입력 및 예측\n",
    "output = model(input_image)\n",
    "\n",
    "# 예측 결과 확인\n",
    "predicted_label = torch.argmax(output)\n",
    "\n",
    "print(\"예측된 라벨:\", predicted_label)"
   ]
  },
  {
   "cell_type": "code",
   "execution_count": null,
   "metadata": {
    "id": "ME7r5BrdKs4D"
   },
   "outputs": [],
   "source": [
    "predicted_label.cpu()\n",
    "k = predicted_label.item()"
   ]
  },
  {
   "cell_type": "code",
   "execution_count": null,
   "metadata": {
    "id": "K5mzXc02HzDr"
   },
   "outputs": [],
   "source": [
    "com = class_list[k]\n",
    "\n",
    "print(\"이 차량 정보: \" ,com[0],\"사의 차량으로\", \"최대\",com[1],\"원 입니다.\")"
   ]
  },
  {
   "cell_type": "code",
   "execution_count": null,
   "metadata": {
    "id": "a63EYEfrLUke"
   },
   "outputs": [],
   "source": []
  }
 ],
 "metadata": {
  "accelerator": "GPU",
  "colab": {
   "gpuType": "T4",
   "provenance": [
    {
     "file_id": "1Vfh7uPPY1HBpSYqkhEeUWUKjjq01E3jE",
     "timestamp": 1685889762145
    },
    {
     "file_id": "1Qt8T2kjXRGjrt20n_dcWCm7u8iqHTQA5",
     "timestamp": 1684730133470
    },
    {
     "file_id": "1PmZv3VTTxTokzUwWTJMinTcLcWESrCbW",
     "timestamp": 1684719040603
    }
   ]
  },
  "kernelspec": {
   "display_name": "Python 3 (ipykernel)",
   "name": "python3",
   "language": "python"
  }
 },
 "nbformat": 4,
 "nbformat_minor": 0
}
